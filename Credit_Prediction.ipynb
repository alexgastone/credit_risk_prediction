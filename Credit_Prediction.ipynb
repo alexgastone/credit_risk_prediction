{
 "cells": [
  {
   "cell_type": "markdown",
   "metadata": {},
   "source": [
    "# Credit Score Card Prediction"
   ]
  },
  {
   "cell_type": "markdown",
   "metadata": {},
   "source": [
    "# Task from Kaggle\n",
    "Build a machine learning model to predict if an applicant is 'good' or 'bad' client, different from other tasks, the definition of 'good' or 'bad' is not given. You should use some techique, such as vintage analysis to **construct you label**. Also, **unbalanced** data problem is a big problem in this task."
   ]
  },
  {
   "cell_type": "markdown",
   "metadata": {},
   "source": [
    "# Importing Libraries"
   ]
  },
  {
   "cell_type": "code",
   "execution_count": 1,
   "metadata": {
    "ExecuteTime": {
     "end_time": "2021-01-25T11:30:19.634065Z",
     "start_time": "2021-01-25T11:30:17.187983Z"
    },
    "_cell_guid": "79c7e3d0-c299-4dcb-8224-4455121ee9b0",
    "_uuid": "d629ff2d2480ee46fbb7e2d37f6b5fab8052498a"
   },
   "outputs": [],
   "source": [
    "import numpy as np\n",
    "import pandas as pd\n",
    "import matplotlib.pyplot as plt\n",
    "import seaborn as sns\n",
    "import sklearn"
   ]
  },
  {
   "cell_type": "code",
   "execution_count": 2,
   "metadata": {
    "ExecuteTime": {
     "end_time": "2021-01-25T11:30:27.430557Z",
     "start_time": "2021-01-25T11:30:27.423617Z"
    }
   },
   "outputs": [
    {
     "data": {
      "text/plain": [
       "'0.24.1'"
      ]
     },
     "execution_count": 2,
     "metadata": {},
     "output_type": "execute_result"
    }
   ],
   "source": [
    "sklearn.__version__"
   ]
  },
  {
   "cell_type": "markdown",
   "metadata": {},
   "source": [
    "# Load data"
   ]
  },
  {
   "cell_type": "code",
   "execution_count": 3,
   "metadata": {
    "ExecuteTime": {
     "end_time": "2021-01-25T11:30:32.225736Z",
     "start_time": "2021-01-25T11:30:31.188496Z"
    }
   },
   "outputs": [],
   "source": [
    "app = pd.read_csv(\"application_record.csv\")"
   ]
  },
  {
   "cell_type": "code",
   "execution_count": 103,
   "metadata": {
    "ExecuteTime": {
     "end_time": "2021-01-25T15:26:38.290174Z",
     "start_time": "2021-01-25T15:26:38.007928Z"
    }
   },
   "outputs": [],
   "source": [
    "crecord = pd.read_csv(\"credit_record.csv\")"
   ]
  },
  {
   "cell_type": "code",
   "execution_count": 4,
   "metadata": {},
   "outputs": [
    {
     "name": "stdout",
     "output_type": "stream",
     "text": [
      "<class 'pandas.core.frame.DataFrame'>\n",
      "RangeIndex: 438557 entries, 0 to 438556\n",
      "Data columns (total 18 columns):\n",
      " #   Column               Non-Null Count   Dtype  \n",
      "---  ------               --------------   -----  \n",
      " 0   ID                   438557 non-null  int64  \n",
      " 1   CODE_GENDER          438557 non-null  object \n",
      " 2   FLAG_OWN_CAR         438557 non-null  object \n",
      " 3   FLAG_OWN_REALTY      438557 non-null  object \n",
      " 4   CNT_CHILDREN         438557 non-null  int64  \n",
      " 5   AMT_INCOME_TOTAL     438557 non-null  float64\n",
      " 6   NAME_INCOME_TYPE     438557 non-null  object \n",
      " 7   NAME_EDUCATION_TYPE  438557 non-null  object \n",
      " 8   NAME_FAMILY_STATUS   438557 non-null  object \n",
      " 9   NAME_HOUSING_TYPE    438557 non-null  object \n",
      " 10  DAYS_BIRTH           438557 non-null  int64  \n",
      " 11  DAYS_EMPLOYED        438557 non-null  int64  \n",
      " 12  FLAG_MOBIL           438557 non-null  int64  \n",
      " 13  FLAG_WORK_PHONE      438557 non-null  int64  \n",
      " 14  FLAG_PHONE           438557 non-null  int64  \n",
      " 15  FLAG_EMAIL           438557 non-null  int64  \n",
      " 16  OCCUPATION_TYPE      304354 non-null  object \n",
      " 17  CNT_FAM_MEMBERS      438557 non-null  float64\n",
      "dtypes: float64(2), int64(8), object(8)\n",
      "memory usage: 60.2+ MB\n"
     ]
    }
   ],
   "source": [
    "app.info()"
   ]
  },
  {
   "cell_type": "markdown",
   "metadata": {},
   "source": [
    "* `object` : CODE_GENDER, FLAG_OWN_CAR,FLAG_OWN_REALTY, NAME_INCOME_TYPE, NAME_EDUCATION_TYPE, NAME_FAMILY_STATUS, NAME_HOUSING_TYPE, OCCUPATION_TYPE\n",
    "* `int` : ID, CNT_CHILDREN, DAYS_BIRTH, DAYS_EMPLOYED, FLAG_MOBIL, FLAG_WORK_PHONE, FLAG_PHONE, FLAG_EMAIL\n",
    "* `float` : AMT_INCOME_TOTAL, CNT_FAMILY_MEMBERS"
   ]
  },
  {
   "cell_type": "code",
   "execution_count": 4,
   "metadata": {},
   "outputs": [
    {
     "name": "stdout",
     "output_type": "stream",
     "text": [
      "<class 'pandas.core.frame.DataFrame'>\n",
      "RangeIndex: 1048575 entries, 0 to 1048574\n",
      "Data columns (total 3 columns):\n",
      " #   Column          Non-Null Count    Dtype \n",
      "---  ------          --------------    ----- \n",
      " 0   ID              1048575 non-null  int64 \n",
      " 1   MONTHS_BALANCE  1048575 non-null  int64 \n",
      " 2   STATUS          1048575 non-null  object\n",
      "dtypes: int64(2), object(1)\n",
      "memory usage: 24.0+ MB\n"
     ]
    }
   ],
   "source": [
    "crecord.info()"
   ]
  },
  {
   "cell_type": "markdown",
   "metadata": {},
   "source": [
    "## Data cleaning"
   ]
  },
  {
   "cell_type": "code",
   "execution_count": 5,
   "metadata": {},
   "outputs": [
    {
     "data": {
      "text/plain": [
       "36457"
      ]
     },
     "execution_count": 5,
     "metadata": {},
     "output_type": "execute_result"
    }
   ],
   "source": [
    "# check to see how many records match in two datasets\n",
    "\n",
    "len(set(crecord['ID']).intersection(set(app['ID']))) "
   ]
  },
  {
   "cell_type": "code",
   "execution_count": 4,
   "metadata": {
    "ExecuteTime": {
     "end_time": "2021-01-25T11:30:36.064761Z",
     "start_time": "2021-01-25T11:30:35.927758Z"
    }
   },
   "outputs": [],
   "source": [
    "# drop duplicates identified by ID from app (note: don't drop from crecord)\n",
    "# assume last record is most up to date\n",
    "\n",
    "app.drop_duplicates('ID', keep='last', inplace=True) "
   ]
  },
  {
   "cell_type": "code",
   "execution_count": 11,
   "metadata": {},
   "outputs": [
    {
     "data": {
      "text/plain": [
       "ID                      0.00000\n",
       "CODE_GENDER             0.00000\n",
       "FLAG_OWN_CAR            0.00000\n",
       "FLAG_OWN_REALTY         0.00000\n",
       "CNT_CHILDREN            0.00000\n",
       "AMT_INCOME_TOTAL        0.00000\n",
       "NAME_INCOME_TYPE        0.00000\n",
       "NAME_EDUCATION_TYPE     0.00000\n",
       "NAME_FAMILY_STATUS      0.00000\n",
       "NAME_HOUSING_TYPE       0.00000\n",
       "DAYS_BIRTH              0.00000\n",
       "DAYS_EMPLOYED           0.00000\n",
       "FLAG_MOBIL              0.00000\n",
       "FLAG_WORK_PHONE         0.00000\n",
       "FLAG_PHONE              0.00000\n",
       "FLAG_EMAIL              0.00000\n",
       "OCCUPATION_TYPE        30.60067\n",
       "CNT_FAM_MEMBERS         0.00000\n",
       "dtype: float64"
      ]
     },
     "execution_count": 11,
     "metadata": {},
     "output_type": "execute_result"
    }
   ],
   "source": [
    "# percent missing from each col\n",
    "\n",
    "app.isnull().sum(axis = 0) / len(app) * 100"
   ]
  },
  {
   "cell_type": "code",
   "execution_count": 5,
   "metadata": {
    "ExecuteTime": {
     "end_time": "2021-01-25T11:30:43.032975Z",
     "start_time": "2021-01-25T11:30:42.986929Z"
    }
   },
   "outputs": [],
   "source": [
    "app.drop('OCCUPATION_TYPE', axis=1, inplace=True) "
   ]
  },
  {
   "cell_type": "code",
   "execution_count": 13,
   "metadata": {},
   "outputs": [
    {
     "data": {
      "text/plain": [
       "ID                0\n",
       "MONTHS_BALANCE    0\n",
       "STATUS            0\n",
       "dtype: int64"
      ]
     },
     "execution_count": 13,
     "metadata": {},
     "output_type": "execute_result"
    }
   ],
   "source": [
    "crecord.isnull().sum(axis = 0)"
   ]
  },
  {
   "cell_type": "markdown",
   "metadata": {},
   "source": [
    "# App df - data prep"
   ]
  },
  {
   "cell_type": "markdown",
   "metadata": {},
   "source": [
    "## Outliers / transformations numerical columns"
   ]
  },
  {
   "cell_type": "code",
   "execution_count": 6,
   "metadata": {
    "ExecuteTime": {
     "end_time": "2021-01-25T11:31:13.128741Z",
     "start_time": "2021-01-25T11:31:13.055983Z"
    }
   },
   "outputs": [],
   "source": [
    "# FOR CNT_CHILDREN COLUMN\n",
    "q_hi = app['CNT_CHILDREN'].quantile(0.999)\n",
    "q_low = app['CNT_CHILDREN'].quantile(0.001)\n",
    "app = app[(app['CNT_CHILDREN']>q_low) & (app['CNT_CHILDREN']<q_hi)]"
   ]
  },
  {
   "cell_type": "code",
   "execution_count": 7,
   "metadata": {
    "ExecuteTime": {
     "end_time": "2021-01-25T11:31:13.780864Z",
     "start_time": "2021-01-25T11:31:13.750515Z"
    }
   },
   "outputs": [],
   "source": [
    "# FOR AMT_INCOME_TOTAL COLUMN\n",
    "q_hi = app['AMT_INCOME_TOTAL'].quantile(0.999)\n",
    "q_low = app['AMT_INCOME_TOTAL'].quantile(0.001)\n",
    "app= app[(app['AMT_INCOME_TOTAL']>q_low) & (app['AMT_INCOME_TOTAL']<q_hi)]"
   ]
  },
  {
   "cell_type": "code",
   "execution_count": 8,
   "metadata": {
    "ExecuteTime": {
     "end_time": "2021-01-25T11:31:14.413634Z",
     "start_time": "2021-01-25T11:31:14.392243Z"
    }
   },
   "outputs": [],
   "source": [
    "#FOR CNT_FAM_MEMBERS COLUMN\n",
    "q_hi = app['CNT_FAM_MEMBERS'].quantile(0.999)\n",
    "q_low = app['CNT_FAM_MEMBERS'].quantile(0.001)\n",
    "app= app[(app['CNT_FAM_MEMBERS']>q_low) & (app['CNT_FAM_MEMBERS']<q_hi)]"
   ]
  },
  {
   "cell_type": "code",
   "execution_count": 27,
   "metadata": {},
   "outputs": [
    {
     "data": {
      "text/plain": [
       "<matplotlib.axes._subplots.AxesSubplot at 0x7f607df57690>"
      ]
     },
     "execution_count": 27,
     "metadata": {},
     "output_type": "execute_result"
    },
    {
     "data": {
      "image/png": "[encoded data removed]",
      "text/plain": [
       "<Figure size 1008x432 with 9 Axes>"
      ]
     },
     "metadata": {
      "needs_background": "light"
     },
     "output_type": "display_data"
    }
   ],
   "source": [
    "fig, ax= plt.subplots(nrows= 3, ncols = 3, figsize= (14,6))\n",
    "\n",
    "sns.scatterplot(x='ID', y='CNT_CHILDREN', data=app, ax=ax[0][0], color= 'orange')\n",
    "sns.scatterplot(x='ID', y='AMT_INCOME_TOTAL', data=app, ax=ax[0][1], color='orange')\n",
    "sns.scatterplot(x='ID', y='DAYS_BIRTH', data=app, ax=ax[0][2])\n",
    "sns.scatterplot(x='ID', y='DAYS_EMPLOYED', data=app, ax=ax[1][0])\n",
    "sns.scatterplot(x='ID', y='FLAG_MOBIL', data=app, ax=ax[1][1])\n",
    "sns.scatterplot(x='ID', y='FLAG_WORK_PHONE', data=app, ax=ax[1][2])\n",
    "sns.scatterplot(x='ID', y='FLAG_PHONE', data=app, ax=ax[2][0])\n",
    "sns.scatterplot(x='ID', y='FLAG_EMAIL', data=app, ax=ax[2][1])\n",
    "sns.scatterplot(x='ID', y='CNT_FAM_MEMBERS', data=app, ax=ax[2][2], color= 'orange')"
   ]
  },
  {
   "cell_type": "markdown",
   "metadata": {},
   "source": [
    "## Variable Encoding categorical columns"
   ]
  },
  {
   "cell_type": "code",
   "execution_count": 28,
   "metadata": {},
   "outputs": [
    {
     "data": {
      "text/plain": [
       "F    0.58899\n",
       "M    0.41101\n",
       "Name: CODE_GENDER, dtype: float64"
      ]
     },
     "execution_count": 28,
     "metadata": {},
     "output_type": "execute_result"
    }
   ],
   "source": [
    "app['CODE_GENDER'].value_counts(normalize=True)"
   ]
  },
  {
   "cell_type": "code",
   "execution_count": 9,
   "metadata": {
    "ExecuteTime": {
     "end_time": "2021-01-25T11:31:18.420382Z",
     "start_time": "2021-01-25T11:31:18.402930Z"
    }
   },
   "outputs": [],
   "source": [
    "gender_dict = {'M':0, 'F':1}\n",
    "app['CODE_GENDER'] = app.CODE_GENDER.map(gender_dict)"
   ]
  },
  {
   "cell_type": "code",
   "execution_count": 16,
   "metadata": {},
   "outputs": [
    {
     "data": {
      "text/plain": [
       "N    0.6281\n",
       "Y    0.3719\n",
       "Name: FLAG_OWN_CAR, dtype: float64"
      ]
     },
     "execution_count": 16,
     "metadata": {},
     "output_type": "execute_result"
    }
   ],
   "source": [
    "app['FLAG_OWN_CAR'].value_counts(normalize=True)"
   ]
  },
  {
   "cell_type": "code",
   "execution_count": 14,
   "metadata": {},
   "outputs": [
    {
     "data": {
      "text/plain": [
       "Y    0.693355\n",
       "N    0.306645\n",
       "Name: FLAG_OWN_REALTY, dtype: float64"
      ]
     },
     "execution_count": 14,
     "metadata": {},
     "output_type": "execute_result"
    }
   ],
   "source": [
    "app['FLAG_OWN_REALTY'].value_counts(normalize=True)"
   ]
  },
  {
   "cell_type": "code",
   "execution_count": 10,
   "metadata": {
    "ExecuteTime": {
     "end_time": "2021-01-25T11:31:22.143405Z",
     "start_time": "2021-01-25T11:31:22.120179Z"
    }
   },
   "outputs": [],
   "source": [
    "yn_dict = {'N':0, 'Y':1}\n",
    "app['FLAG_OWN_CAR'] = app.FLAG_OWN_CAR.map(yn_dict)\n",
    "app['FLAG_OWN_REALTY'] = app.FLAG_OWN_REALTY.map(yn_dict)"
   ]
  },
  {
   "cell_type": "code",
   "execution_count": 7,
   "metadata": {},
   "outputs": [
    {
     "data": {
      "text/plain": [
       "House / apartment      0.898014\n",
       "With parents           0.043497\n",
       "Municipal apartment    0.032412\n",
       "Rented apartment       0.013623\n",
       "Office apartment       0.008944\n",
       "Co-op apartment        0.003510\n",
       "Name: NAME_HOUSING_TYPE, dtype: float64"
      ]
     },
     "execution_count": 7,
     "metadata": {},
     "output_type": "execute_result"
    }
   ],
   "source": [
    "app['NAME_HOUSING_TYPE'].value_counts(normalize=True)"
   ]
  },
  {
   "cell_type": "code",
   "execution_count": 8,
   "metadata": {},
   "outputs": [
    {
     "data": {
      "text/plain": [
       "Working                 0.515580\n",
       "Commercial associate    0.229730\n",
       "Pensioner               0.172135\n",
       "State servant           0.082516\n",
       "Student                 0.000039\n",
       "Name: NAME_INCOME_TYPE, dtype: float64"
      ]
     },
     "execution_count": 8,
     "metadata": {},
     "output_type": "execute_result"
    }
   ],
   "source": [
    "app['NAME_INCOME_TYPE'].value_counts(normalize=True)"
   ]
  },
  {
   "cell_type": "code",
   "execution_count": 9,
   "metadata": {},
   "outputs": [
    {
     "data": {
      "text/plain": [
       "Secondary / secondary special    0.688215\n",
       "Higher education                 0.267973\n",
       "Incomplete higher                0.033862\n",
       "Lower secondary                  0.009238\n",
       "Academic degree                  0.000712\n",
       "Name: NAME_EDUCATION_TYPE, dtype: float64"
      ]
     },
     "execution_count": 9,
     "metadata": {},
     "output_type": "execute_result"
    }
   ],
   "source": [
    "app['NAME_EDUCATION_TYPE'].value_counts(normalize=True)"
   ]
  },
  {
   "cell_type": "code",
   "execution_count": 10,
   "metadata": {},
   "outputs": [
    {
     "data": {
      "text/plain": [
       "Married                 0.683674\n",
       "Single / not married    0.126036\n",
       "Civil marriage          0.083291\n",
       "Separated               0.062140\n",
       "Widow                   0.044859\n",
       "Name: NAME_FAMILY_STATUS, dtype: float64"
      ]
     },
     "execution_count": 10,
     "metadata": {},
     "output_type": "execute_result"
    }
   ],
   "source": [
    "app['NAME_FAMILY_STATUS'].value_counts(normalize=True)"
   ]
  },
  {
   "cell_type": "code",
   "execution_count": 11,
   "metadata": {
    "ExecuteTime": {
     "end_time": "2021-01-25T11:31:25.598015Z",
     "start_time": "2021-01-25T11:31:25.521606Z"
    }
   },
   "outputs": [],
   "source": [
    "app = pd.get_dummies(app, prefix=['HOUSING', 'INCOME', 'EDUCATION', 'FAMILY'], \n",
    "                     columns=['NAME_HOUSING_TYPE','NAME_INCOME_TYPE', 'NAME_EDUCATION_TYPE', 'NAME_FAMILY_STATUS'])"
   ]
  },
  {
   "cell_type": "code",
   "execution_count": 102,
   "metadata": {
    "ExecuteTime": {
     "end_time": "2021-01-25T15:26:07.948452Z",
     "start_time": "2021-01-25T15:26:07.846412Z"
    }
   },
   "outputs": [
    {
     "data": {
      "text/html": [
       "<div>\n",
       "<style scoped>\n",
       "    .dataframe tbody tr th:only-of-type {\n",
       "        vertical-align: middle;\n",
       "    }\n",
       "\n",
       "    .dataframe tbody tr th {\n",
       "        vertical-align: top;\n",
       "    }\n",
       "\n",
       "    .dataframe thead th {\n",
       "        text-align: right;\n",
       "    }\n",
       "</style>\n",
       "<table border=\"1\" class=\"dataframe\">\n",
       "  <thead>\n",
       "    <tr style=\"text-align: right;\">\n",
       "      <th></th>\n",
       "      <th>ID</th>\n",
       "      <th>CODE_GENDER</th>\n",
       "      <th>FLAG_OWN_CAR</th>\n",
       "      <th>FLAG_OWN_REALTY</th>\n",
       "      <th>CNT_CHILDREN</th>\n",
       "      <th>AMT_INCOME_TOTAL</th>\n",
       "      <th>DAYS_BIRTH</th>\n",
       "      <th>DAYS_EMPLOYED</th>\n",
       "      <th>FLAG_MOBIL</th>\n",
       "      <th>FLAG_WORK_PHONE</th>\n",
       "      <th>...</th>\n",
       "      <th>EDUCATION_Academic degree</th>\n",
       "      <th>EDUCATION_Higher education</th>\n",
       "      <th>EDUCATION_Incomplete higher</th>\n",
       "      <th>EDUCATION_Lower secondary</th>\n",
       "      <th>EDUCATION_Secondary / secondary special</th>\n",
       "      <th>FAMILY_Civil marriage</th>\n",
       "      <th>FAMILY_Married</th>\n",
       "      <th>FAMILY_Separated</th>\n",
       "      <th>FAMILY_Single / not married</th>\n",
       "      <th>FAMILY_Widow</th>\n",
       "    </tr>\n",
       "  </thead>\n",
       "  <tbody>\n",
       "    <tr>\n",
       "      <th>29</th>\n",
       "      <td>5008838</td>\n",
       "      <td>0</td>\n",
       "      <td>0</td>\n",
       "      <td>1</td>\n",
       "      <td>1</td>\n",
       "      <td>405000.0</td>\n",
       "      <td>-11842</td>\n",
       "      <td>-2016</td>\n",
       "      <td>1</td>\n",
       "      <td>0</td>\n",
       "      <td>...</td>\n",
       "      <td>0</td>\n",
       "      <td>1</td>\n",
       "      <td>0</td>\n",
       "      <td>0</td>\n",
       "      <td>0</td>\n",
       "      <td>0</td>\n",
       "      <td>1</td>\n",
       "      <td>0</td>\n",
       "      <td>0</td>\n",
       "      <td>0</td>\n",
       "    </tr>\n",
       "    <tr>\n",
       "      <th>30</th>\n",
       "      <td>5008839</td>\n",
       "      <td>0</td>\n",
       "      <td>0</td>\n",
       "      <td>1</td>\n",
       "      <td>1</td>\n",
       "      <td>405000.0</td>\n",
       "      <td>-11842</td>\n",
       "      <td>-2016</td>\n",
       "      <td>1</td>\n",
       "      <td>0</td>\n",
       "      <td>...</td>\n",
       "      <td>0</td>\n",
       "      <td>1</td>\n",
       "      <td>0</td>\n",
       "      <td>0</td>\n",
       "      <td>0</td>\n",
       "      <td>0</td>\n",
       "      <td>1</td>\n",
       "      <td>0</td>\n",
       "      <td>0</td>\n",
       "      <td>0</td>\n",
       "    </tr>\n",
       "    <tr>\n",
       "      <th>31</th>\n",
       "      <td>5008840</td>\n",
       "      <td>0</td>\n",
       "      <td>0</td>\n",
       "      <td>1</td>\n",
       "      <td>1</td>\n",
       "      <td>405000.0</td>\n",
       "      <td>-11842</td>\n",
       "      <td>-2016</td>\n",
       "      <td>1</td>\n",
       "      <td>0</td>\n",
       "      <td>...</td>\n",
       "      <td>0</td>\n",
       "      <td>1</td>\n",
       "      <td>0</td>\n",
       "      <td>0</td>\n",
       "      <td>0</td>\n",
       "      <td>0</td>\n",
       "      <td>1</td>\n",
       "      <td>0</td>\n",
       "      <td>0</td>\n",
       "      <td>0</td>\n",
       "    </tr>\n",
       "    <tr>\n",
       "      <th>32</th>\n",
       "      <td>5008841</td>\n",
       "      <td>0</td>\n",
       "      <td>0</td>\n",
       "      <td>1</td>\n",
       "      <td>1</td>\n",
       "      <td>405000.0</td>\n",
       "      <td>-11842</td>\n",
       "      <td>-2016</td>\n",
       "      <td>1</td>\n",
       "      <td>0</td>\n",
       "      <td>...</td>\n",
       "      <td>0</td>\n",
       "      <td>1</td>\n",
       "      <td>0</td>\n",
       "      <td>0</td>\n",
       "      <td>0</td>\n",
       "      <td>0</td>\n",
       "      <td>1</td>\n",
       "      <td>0</td>\n",
       "      <td>0</td>\n",
       "      <td>0</td>\n",
       "    </tr>\n",
       "    <tr>\n",
       "      <th>33</th>\n",
       "      <td>5008842</td>\n",
       "      <td>0</td>\n",
       "      <td>0</td>\n",
       "      <td>1</td>\n",
       "      <td>1</td>\n",
       "      <td>405000.0</td>\n",
       "      <td>-11842</td>\n",
       "      <td>-2016</td>\n",
       "      <td>1</td>\n",
       "      <td>0</td>\n",
       "      <td>...</td>\n",
       "      <td>0</td>\n",
       "      <td>1</td>\n",
       "      <td>0</td>\n",
       "      <td>0</td>\n",
       "      <td>0</td>\n",
       "      <td>0</td>\n",
       "      <td>1</td>\n",
       "      <td>0</td>\n",
       "      <td>0</td>\n",
       "      <td>0</td>\n",
       "    </tr>\n",
       "  </tbody>\n",
       "</table>\n",
       "<p>5 rows × 34 columns</p>\n",
       "</div>"
      ],
      "text/plain": [
       "         ID  CODE_GENDER  FLAG_OWN_CAR  FLAG_OWN_REALTY  CNT_CHILDREN  \\\n",
       "29  5008838            0             0                1             1   \n",
       "30  5008839            0             0                1             1   \n",
       "31  5008840            0             0                1             1   \n",
       "32  5008841            0             0                1             1   \n",
       "33  5008842            0             0                1             1   \n",
       "\n",
       "    AMT_INCOME_TOTAL  DAYS_BIRTH  DAYS_EMPLOYED  FLAG_MOBIL  FLAG_WORK_PHONE  \\\n",
       "29          405000.0      -11842          -2016           1                0   \n",
       "30          405000.0      -11842          -2016           1                0   \n",
       "31          405000.0      -11842          -2016           1                0   \n",
       "32          405000.0      -11842          -2016           1                0   \n",
       "33          405000.0      -11842          -2016           1                0   \n",
       "\n",
       "    ...  EDUCATION_Academic degree  EDUCATION_Higher education  \\\n",
       "29  ...                          0                           1   \n",
       "30  ...                          0                           1   \n",
       "31  ...                          0                           1   \n",
       "32  ...                          0                           1   \n",
       "33  ...                          0                           1   \n",
       "\n",
       "    EDUCATION_Incomplete higher  EDUCATION_Lower secondary  \\\n",
       "29                            0                          0   \n",
       "30                            0                          0   \n",
       "31                            0                          0   \n",
       "32                            0                          0   \n",
       "33                            0                          0   \n",
       "\n",
       "    EDUCATION_Secondary / secondary special  FAMILY_Civil marriage  \\\n",
       "29                                        0                      0   \n",
       "30                                        0                      0   \n",
       "31                                        0                      0   \n",
       "32                                        0                      0   \n",
       "33                                        0                      0   \n",
       "\n",
       "    FAMILY_Married  FAMILY_Separated  FAMILY_Single / not married  \\\n",
       "29               1                 0                            0   \n",
       "30               1                 0                            0   \n",
       "31               1                 0                            0   \n",
       "32               1                 0                            0   \n",
       "33               1                 0                            0   \n",
       "\n",
       "    FAMILY_Widow  \n",
       "29             0  \n",
       "30             0  \n",
       "31             0  \n",
       "32             0  \n",
       "33             0  \n",
       "\n",
       "[5 rows x 34 columns]"
      ]
     },
     "execution_count": 102,
     "metadata": {},
     "output_type": "execute_result"
    }
   ],
   "source": [
    "app.head()"
   ]
  },
  {
   "cell_type": "code",
   "execution_count": 33,
   "metadata": {},
   "outputs": [],
   "source": [
    "# check data types\n",
    "# app.info()"
   ]
  },
  {
   "cell_type": "code",
   "execution_count": null,
   "metadata": {},
   "outputs": [],
   "source": []
  },
  {
   "cell_type": "markdown",
   "metadata": {},
   "source": [
    "# Crecord df - data prep"
   ]
  },
  {
   "cell_type": "code",
   "execution_count": 34,
   "metadata": {},
   "outputs": [
    {
     "name": "stdout",
     "output_type": "stream",
     "text": [
      "<class 'pandas.core.frame.DataFrame'>\n",
      "RangeIndex: 1048575 entries, 0 to 1048574\n",
      "Data columns (total 3 columns):\n",
      " #   Column          Non-Null Count    Dtype \n",
      "---  ------          --------------    ----- \n",
      " 0   ID              1048575 non-null  int64 \n",
      " 1   MONTHS_BALANCE  1048575 non-null  int64 \n",
      " 2   STATUS          1048575 non-null  object\n",
      "dtypes: int64(2), object(1)\n",
      "memory usage: 24.0+ MB\n"
     ]
    }
   ],
   "source": [
    "crecord.info()"
   ]
  },
  {
   "cell_type": "code",
   "execution_count": 104,
   "metadata": {
    "ExecuteTime": {
     "end_time": "2021-01-25T15:26:49.843183Z",
     "start_time": "2021-01-25T15:26:49.832986Z"
    }
   },
   "outputs": [
    {
     "data": {
      "text/html": [
       "<div>\n",
       "<style scoped>\n",
       "    .dataframe tbody tr th:only-of-type {\n",
       "        vertical-align: middle;\n",
       "    }\n",
       "\n",
       "    .dataframe tbody tr th {\n",
       "        vertical-align: top;\n",
       "    }\n",
       "\n",
       "    .dataframe thead th {\n",
       "        text-align: right;\n",
       "    }\n",
       "</style>\n",
       "<table border=\"1\" class=\"dataframe\">\n",
       "  <thead>\n",
       "    <tr style=\"text-align: right;\">\n",
       "      <th></th>\n",
       "      <th>ID</th>\n",
       "      <th>MONTHS_BALANCE</th>\n",
       "      <th>STATUS</th>\n",
       "    </tr>\n",
       "  </thead>\n",
       "  <tbody>\n",
       "    <tr>\n",
       "      <th>0</th>\n",
       "      <td>5001711</td>\n",
       "      <td>0</td>\n",
       "      <td>X</td>\n",
       "    </tr>\n",
       "    <tr>\n",
       "      <th>1</th>\n",
       "      <td>5001711</td>\n",
       "      <td>-1</td>\n",
       "      <td>0</td>\n",
       "    </tr>\n",
       "    <tr>\n",
       "      <th>2</th>\n",
       "      <td>5001711</td>\n",
       "      <td>-2</td>\n",
       "      <td>0</td>\n",
       "    </tr>\n",
       "    <tr>\n",
       "      <th>3</th>\n",
       "      <td>5001711</td>\n",
       "      <td>-3</td>\n",
       "      <td>0</td>\n",
       "    </tr>\n",
       "    <tr>\n",
       "      <th>4</th>\n",
       "      <td>5001712</td>\n",
       "      <td>0</td>\n",
       "      <td>C</td>\n",
       "    </tr>\n",
       "  </tbody>\n",
       "</table>\n",
       "</div>"
      ],
      "text/plain": [
       "        ID  MONTHS_BALANCE STATUS\n",
       "0  5001711               0      X\n",
       "1  5001711              -1      0\n",
       "2  5001711              -2      0\n",
       "3  5001711              -3      0\n",
       "4  5001712               0      C"
      ]
     },
     "execution_count": 104,
     "metadata": {},
     "output_type": "execute_result"
    }
   ],
   "source": [
    "crecord.head()"
   ]
  },
  {
   "cell_type": "code",
   "execution_count": 37,
   "metadata": {},
   "outputs": [
    {
     "data": {
      "text/plain": [
       "C    0.421554\n",
       "0    0.365372\n",
       "X    0.199537\n",
       "1    0.010576\n",
       "5    0.001615\n",
       "2    0.000828\n",
       "3    0.000305\n",
       "4    0.000213\n",
       "Name: STATUS, dtype: float64"
      ]
     },
     "execution_count": 37,
     "metadata": {},
     "output_type": "execute_result"
    }
   ],
   "source": [
    "crecord['STATUS'].value_counts(normalize=True) "
   ]
  },
  {
   "cell_type": "markdown",
   "metadata": {},
   "source": [
    "* 0: 1-29 days past due \n",
    "* 1: 30-59 days past due \n",
    "* 2: 60-89 days overdue \n",
    "* 3: 90-119 days overdue \n",
    "* 4: 120-149 days overdue \n",
    "* 5: Overdue or bad debts, write-offs for more than 150 days \n",
    "* C: paid off that month \n",
    "* X: No loan for the month"
   ]
  },
  {
   "cell_type": "code",
   "execution_count": 105,
   "metadata": {
    "ExecuteTime": {
     "end_time": "2021-01-25T15:27:19.978148Z",
     "start_time": "2021-01-25T15:27:19.703335Z"
    }
   },
   "outputs": [],
   "source": [
    "# for now, label by level of severity (ordinal)\n",
    "crecord['STATUS'].replace({'X': 0, 'C' : 0, '0' : 1, '1': 2, '2': 3, '3': 4, '4': 5, '5': 6}, inplace=True)"
   ]
  },
  {
   "cell_type": "code",
   "execution_count": 106,
   "metadata": {
    "ExecuteTime": {
     "end_time": "2021-01-25T15:27:21.547596Z",
     "start_time": "2021-01-25T15:27:20.685888Z"
    }
   },
   "outputs": [
    {
     "data": {
      "image/png": "[encoded data removed]",
      "text/plain": [
       "<Figure size 432x288 with 1 Axes>"
      ]
     },
     "metadata": {
      "needs_background": "light"
     },
     "output_type": "display_data"
    }
   ],
   "source": [
    "(crecord['STATUS'].value_counts(normalize=True)).plot(kind='bar');"
   ]
  },
  {
   "cell_type": "markdown",
   "metadata": {},
   "source": [
    "**Unbalanced** labels: when split training and test will have to oversample rare categories of train"
   ]
  },
  {
   "cell_type": "code",
   "execution_count": 107,
   "metadata": {
    "ExecuteTime": {
     "end_time": "2021-01-25T15:28:15.888840Z",
     "start_time": "2021-01-25T15:28:15.796546Z"
    }
   },
   "outputs": [
    {
     "data": {
      "text/html": [
       "<div>\n",
       "<style scoped>\n",
       "    .dataframe tbody tr th:only-of-type {\n",
       "        vertical-align: middle;\n",
       "    }\n",
       "\n",
       "    .dataframe tbody tr th {\n",
       "        vertical-align: top;\n",
       "    }\n",
       "\n",
       "    .dataframe thead th {\n",
       "        text-align: right;\n",
       "    }\n",
       "</style>\n",
       "<table border=\"1\" class=\"dataframe\">\n",
       "  <thead>\n",
       "    <tr style=\"text-align: right;\">\n",
       "      <th></th>\n",
       "      <th>ID</th>\n",
       "      <th>MONTHS_BALANCE</th>\n",
       "      <th>STATUS</th>\n",
       "    </tr>\n",
       "  </thead>\n",
       "  <tbody>\n",
       "    <tr>\n",
       "      <th>0</th>\n",
       "      <td>5001711</td>\n",
       "      <td>0</td>\n",
       "      <td>1</td>\n",
       "    </tr>\n",
       "    <tr>\n",
       "      <th>1</th>\n",
       "      <td>5001712</td>\n",
       "      <td>0</td>\n",
       "      <td>1</td>\n",
       "    </tr>\n",
       "    <tr>\n",
       "      <th>2</th>\n",
       "      <td>5001713</td>\n",
       "      <td>0</td>\n",
       "      <td>0</td>\n",
       "    </tr>\n",
       "    <tr>\n",
       "      <th>3</th>\n",
       "      <td>5001714</td>\n",
       "      <td>0</td>\n",
       "      <td>0</td>\n",
       "    </tr>\n",
       "    <tr>\n",
       "      <th>4</th>\n",
       "      <td>5001715</td>\n",
       "      <td>0</td>\n",
       "      <td>0</td>\n",
       "    </tr>\n",
       "  </tbody>\n",
       "</table>\n",
       "</div>"
      ],
      "text/plain": [
       "        ID  MONTHS_BALANCE  STATUS\n",
       "0  5001711               0       1\n",
       "1  5001712               0       1\n",
       "2  5001713               0       0\n",
       "3  5001714               0       0\n",
       "4  5001715               0       0"
      ]
     },
     "execution_count": 107,
     "metadata": {},
     "output_type": "execute_result"
    }
   ],
   "source": [
    "# group by ID, keep most recent\n",
    "crecordgb = crecord.groupby('ID').agg(max).reset_index()\n",
    "crecordgb.head() "
   ]
  },
  {
   "cell_type": "code",
   "execution_count": 108,
   "metadata": {
    "ExecuteTime": {
     "end_time": "2021-01-25T15:28:20.140357Z",
     "start_time": "2021-01-25T15:28:20.051753Z"
    }
   },
   "outputs": [
    {
     "data": {
      "text/html": [
       "<div>\n",
       "<style scoped>\n",
       "    .dataframe tbody tr th:only-of-type {\n",
       "        vertical-align: middle;\n",
       "    }\n",
       "\n",
       "    .dataframe tbody tr th {\n",
       "        vertical-align: top;\n",
       "    }\n",
       "\n",
       "    .dataframe thead th {\n",
       "        text-align: right;\n",
       "    }\n",
       "</style>\n",
       "<table border=\"1\" class=\"dataframe\">\n",
       "  <thead>\n",
       "    <tr style=\"text-align: right;\">\n",
       "      <th></th>\n",
       "      <th>ID</th>\n",
       "      <th>CODE_GENDER</th>\n",
       "      <th>FLAG_OWN_CAR</th>\n",
       "      <th>FLAG_OWN_REALTY</th>\n",
       "      <th>CNT_CHILDREN</th>\n",
       "      <th>AMT_INCOME_TOTAL</th>\n",
       "      <th>DAYS_BIRTH</th>\n",
       "      <th>DAYS_EMPLOYED</th>\n",
       "      <th>FLAG_MOBIL</th>\n",
       "      <th>FLAG_WORK_PHONE</th>\n",
       "      <th>...</th>\n",
       "      <th>EDUCATION_Higher education</th>\n",
       "      <th>EDUCATION_Incomplete higher</th>\n",
       "      <th>EDUCATION_Lower secondary</th>\n",
       "      <th>EDUCATION_Secondary / secondary special</th>\n",
       "      <th>FAMILY_Civil marriage</th>\n",
       "      <th>FAMILY_Married</th>\n",
       "      <th>FAMILY_Separated</th>\n",
       "      <th>FAMILY_Single / not married</th>\n",
       "      <th>FAMILY_Widow</th>\n",
       "      <th>STATUS</th>\n",
       "    </tr>\n",
       "  </thead>\n",
       "  <tbody>\n",
       "    <tr>\n",
       "      <th>29</th>\n",
       "      <td>5008838</td>\n",
       "      <td>0</td>\n",
       "      <td>0</td>\n",
       "      <td>1</td>\n",
       "      <td>1</td>\n",
       "      <td>405000.0</td>\n",
       "      <td>-11842</td>\n",
       "      <td>-2016</td>\n",
       "      <td>1</td>\n",
       "      <td>0</td>\n",
       "      <td>...</td>\n",
       "      <td>1</td>\n",
       "      <td>0</td>\n",
       "      <td>0</td>\n",
       "      <td>0</td>\n",
       "      <td>0</td>\n",
       "      <td>1</td>\n",
       "      <td>0</td>\n",
       "      <td>0</td>\n",
       "      <td>0</td>\n",
       "      <td>1</td>\n",
       "    </tr>\n",
       "    <tr>\n",
       "      <th>30</th>\n",
       "      <td>5008839</td>\n",
       "      <td>0</td>\n",
       "      <td>0</td>\n",
       "      <td>1</td>\n",
       "      <td>1</td>\n",
       "      <td>405000.0</td>\n",
       "      <td>-11842</td>\n",
       "      <td>-2016</td>\n",
       "      <td>1</td>\n",
       "      <td>0</td>\n",
       "      <td>...</td>\n",
       "      <td>1</td>\n",
       "      <td>0</td>\n",
       "      <td>0</td>\n",
       "      <td>0</td>\n",
       "      <td>0</td>\n",
       "      <td>1</td>\n",
       "      <td>0</td>\n",
       "      <td>0</td>\n",
       "      <td>0</td>\n",
       "      <td>1</td>\n",
       "    </tr>\n",
       "    <tr>\n",
       "      <th>31</th>\n",
       "      <td>5008840</td>\n",
       "      <td>0</td>\n",
       "      <td>0</td>\n",
       "      <td>1</td>\n",
       "      <td>1</td>\n",
       "      <td>405000.0</td>\n",
       "      <td>-11842</td>\n",
       "      <td>-2016</td>\n",
       "      <td>1</td>\n",
       "      <td>0</td>\n",
       "      <td>...</td>\n",
       "      <td>1</td>\n",
       "      <td>0</td>\n",
       "      <td>0</td>\n",
       "      <td>0</td>\n",
       "      <td>0</td>\n",
       "      <td>1</td>\n",
       "      <td>0</td>\n",
       "      <td>0</td>\n",
       "      <td>0</td>\n",
       "      <td>1</td>\n",
       "    </tr>\n",
       "    <tr>\n",
       "      <th>32</th>\n",
       "      <td>5008841</td>\n",
       "      <td>0</td>\n",
       "      <td>0</td>\n",
       "      <td>1</td>\n",
       "      <td>1</td>\n",
       "      <td>405000.0</td>\n",
       "      <td>-11842</td>\n",
       "      <td>-2016</td>\n",
       "      <td>1</td>\n",
       "      <td>0</td>\n",
       "      <td>...</td>\n",
       "      <td>1</td>\n",
       "      <td>0</td>\n",
       "      <td>0</td>\n",
       "      <td>0</td>\n",
       "      <td>0</td>\n",
       "      <td>1</td>\n",
       "      <td>0</td>\n",
       "      <td>0</td>\n",
       "      <td>0</td>\n",
       "      <td>1</td>\n",
       "    </tr>\n",
       "    <tr>\n",
       "      <th>33</th>\n",
       "      <td>5008842</td>\n",
       "      <td>0</td>\n",
       "      <td>0</td>\n",
       "      <td>1</td>\n",
       "      <td>1</td>\n",
       "      <td>405000.0</td>\n",
       "      <td>-11842</td>\n",
       "      <td>-2016</td>\n",
       "      <td>1</td>\n",
       "      <td>0</td>\n",
       "      <td>...</td>\n",
       "      <td>1</td>\n",
       "      <td>0</td>\n",
       "      <td>0</td>\n",
       "      <td>0</td>\n",
       "      <td>0</td>\n",
       "      <td>1</td>\n",
       "      <td>0</td>\n",
       "      <td>0</td>\n",
       "      <td>0</td>\n",
       "      <td>1</td>\n",
       "    </tr>\n",
       "  </tbody>\n",
       "</table>\n",
       "<p>5 rows × 35 columns</p>\n",
       "</div>"
      ],
      "text/plain": [
       "         ID  CODE_GENDER  FLAG_OWN_CAR  FLAG_OWN_REALTY  CNT_CHILDREN  \\\n",
       "29  5008838            0             0                1             1   \n",
       "30  5008839            0             0                1             1   \n",
       "31  5008840            0             0                1             1   \n",
       "32  5008841            0             0                1             1   \n",
       "33  5008842            0             0                1             1   \n",
       "\n",
       "    AMT_INCOME_TOTAL  DAYS_BIRTH  DAYS_EMPLOYED  FLAG_MOBIL  FLAG_WORK_PHONE  \\\n",
       "29          405000.0      -11842          -2016           1                0   \n",
       "30          405000.0      -11842          -2016           1                0   \n",
       "31          405000.0      -11842          -2016           1                0   \n",
       "32          405000.0      -11842          -2016           1                0   \n",
       "33          405000.0      -11842          -2016           1                0   \n",
       "\n",
       "    ...  EDUCATION_Higher education  EDUCATION_Incomplete higher  \\\n",
       "29  ...                           1                            0   \n",
       "30  ...                           1                            0   \n",
       "31  ...                           1                            0   \n",
       "32  ...                           1                            0   \n",
       "33  ...                           1                            0   \n",
       "\n",
       "    EDUCATION_Lower secondary  EDUCATION_Secondary / secondary special  \\\n",
       "29                          0                                        0   \n",
       "30                          0                                        0   \n",
       "31                          0                                        0   \n",
       "32                          0                                        0   \n",
       "33                          0                                        0   \n",
       "\n",
       "    FAMILY_Civil marriage  FAMILY_Married  FAMILY_Separated  \\\n",
       "29                      0               1                 0   \n",
       "30                      0               1                 0   \n",
       "31                      0               1                 0   \n",
       "32                      0               1                 0   \n",
       "33                      0               1                 0   \n",
       "\n",
       "    FAMILY_Single / not married  FAMILY_Widow  STATUS  \n",
       "29                            0             0       1  \n",
       "30                            0             0       1  \n",
       "31                            0             0       1  \n",
       "32                            0             0       1  \n",
       "33                            0             0       1  \n",
       "\n",
       "[5 rows x 35 columns]"
      ]
     },
     "execution_count": 108,
     "metadata": {},
     "output_type": "execute_result"
    }
   ],
   "source": [
    "# join inner, where entries in app will be assigned most recent status\n",
    "df = app.join(crecordgb.set_index('ID'), on='ID', how='inner')\n",
    "df.drop(['MONTHS_BALANCE'], axis=1, inplace=True)\n",
    "df.head()\n"
   ]
  },
  {
   "cell_type": "markdown",
   "metadata": {},
   "source": [
    "# Create train and test sets"
   ]
  },
  {
   "cell_type": "code",
   "execution_count": 109,
   "metadata": {
    "ExecuteTime": {
     "end_time": "2021-01-25T15:28:22.935540Z",
     "start_time": "2021-01-25T15:28:22.928671Z"
    }
   },
   "outputs": [],
   "source": [
    "# drop ID column \n",
    "X = df.iloc[:,1:-1]\n",
    "y = df.iloc[:,-1]"
   ]
  },
  {
   "cell_type": "code",
   "execution_count": 110,
   "metadata": {
    "ExecuteTime": {
     "end_time": "2021-01-25T15:28:25.587790Z",
     "start_time": "2021-01-25T15:28:25.544819Z"
    }
   },
   "outputs": [],
   "source": [
    "from sklearn.model_selection import train_test_split\n",
    "from sklearn.preprocessing import RobustScaler\n",
    "# Scale features using statistics that are robust to outliers, i.e. not \n",
    "# influenced by a few number of very large marginal outliers\n",
    "\n",
    "X_train, X_test, y_train, y_test = train_test_split(X, y, test_size=0.3, random_state=64)\n",
    "\n",
    "X_train_scaled = RobustScaler().fit_transform(X_train)\n",
    "X_test_scaled = RobustScaler().fit_transform(X_test)"
   ]
  },
  {
   "cell_type": "code",
   "execution_count": 111,
   "metadata": {
    "ExecuteTime": {
     "end_time": "2021-01-25T15:28:26.963358Z",
     "start_time": "2021-01-25T15:28:26.928593Z"
    }
   },
   "outputs": [],
   "source": [
    "# needed as df for explainer\n",
    "\n",
    "X_dftrain_scaled = pd.DataFrame(RobustScaler().fit_transform(X_train), columns=X_train.columns)\n",
    "X_dftest_scaled = pd.DataFrame(RobustScaler().fit_transform(X_test), columns=X_test.columns)"
   ]
  },
  {
   "cell_type": "code",
   "execution_count": 112,
   "metadata": {
    "ExecuteTime": {
     "end_time": "2021-01-25T15:28:45.078876Z",
     "start_time": "2021-01-25T15:28:45.073215Z"
    }
   },
   "outputs": [],
   "source": [
    "from imblearn.over_sampling import SMOTE"
   ]
  },
  {
   "cell_type": "markdown",
   "metadata": {},
   "source": [
    "> Perhaps the most widely used approach to synthesizing new examples is called the Synthetic Minority Oversampling TEchnique, or SMOTE for short. This technique was described by Nitesh Chawla, et al. in their 2002 paper named for the technique titled “SMOTE: Synthetic Minority Over-sampling Technique.”"
   ]
  },
  {
   "cell_type": "code",
   "execution_count": 113,
   "metadata": {
    "ExecuteTime": {
     "end_time": "2021-01-25T15:28:48.678184Z",
     "start_time": "2021-01-25T15:28:48.572541Z"
    }
   },
   "outputs": [],
   "source": [
    "oversample = SMOTE(random_state=64)\n",
    "X_train_balanced, y_train_balanced = oversample.fit_resample(X_train_scaled, y_train)"
   ]
  },
  {
   "cell_type": "code",
   "execution_count": null,
   "metadata": {},
   "outputs": [],
   "source": [
    "X_train_balanced_unscaled, y_train_balanced_unscaled = oversample.fit_resample(X_train, y_train)"
   ]
  },
  {
   "cell_type": "code",
   "execution_count": 114,
   "metadata": {
    "ExecuteTime": {
     "end_time": "2021-01-25T15:28:50.913093Z",
     "start_time": "2021-01-25T15:28:50.904727Z"
    }
   },
   "outputs": [
    {
     "data": {
      "text/plain": [
       "6    5020\n",
       "5    5020\n",
       "4    5020\n",
       "3    5020\n",
       "2    5020\n",
       "1    5020\n",
       "0    5020\n",
       "Name: STATUS, dtype: int64"
      ]
     },
     "execution_count": 114,
     "metadata": {},
     "output_type": "execute_result"
    }
   ],
   "source": [
    "y_train_balanced.value_counts()"
   ]
  },
  {
   "cell_type": "markdown",
   "metadata": {},
   "source": [
    "# Fit models and evaluate performance of validation set"
   ]
  },
  {
   "cell_type": "code",
   "execution_count": 115,
   "metadata": {
    "ExecuteTime": {
     "end_time": "2021-01-25T15:29:02.710094Z",
     "start_time": "2021-01-25T15:29:02.705506Z"
    }
   },
   "outputs": [],
   "source": [
    "from sklearn.linear_model import LogisticRegression\n",
    "from sklearn.neighbors import KNeighborsClassifier\n",
    "from sklearn.svm import SVC\n",
    "from sklearn.tree import DecisionTreeClassifier\n",
    "from sklearn.ensemble import RandomForestClassifier\n",
    "from xgboost import XGBClassifier"
   ]
  },
  {
   "cell_type": "code",
   "execution_count": 116,
   "metadata": {
    "ExecuteTime": {
     "end_time": "2021-01-25T15:29:07.698634Z",
     "start_time": "2021-01-25T15:29:07.690906Z"
    }
   },
   "outputs": [],
   "source": [
    "classifiers = {\n",
    "    \"LogisticRegression\" : LogisticRegression(),\n",
    "    \"KNeighbors\" : KNeighborsClassifier(),\n",
    "    \"SVC\" : SVC(),\n",
    "    \"DecisionTree\" : DecisionTreeClassifier(),\n",
    "    \"RandomForest\" : RandomForestClassifier(),\n",
    "    \"XGBoost\" : XGBClassifier()\n",
    "}"
   ]
  },
  {
   "cell_type": "markdown",
   "metadata": {},
   "source": [
    "Log Regression by default adds L2 penalty (-squared weights). "
   ]
  },
  {
   "cell_type": "code",
   "execution_count": 117,
   "metadata": {
    "ExecuteTime": {
     "end_time": "2021-01-25T15:29:18.888627Z",
     "start_time": "2021-01-25T15:29:18.883213Z"
    }
   },
   "outputs": [],
   "source": [
    "from sklearn.model_selection import RepeatedKFold\n",
    "from sklearn.model_selection import cross_val_score\n",
    "\n",
    "cv = RepeatedKFold(n_splits=10, random_state=1, n_repeats=1)"
   ]
  },
  {
   "cell_type": "code",
   "execution_count": 118,
   "metadata": {
    "ExecuteTime": {
     "end_time": "2021-01-25T15:43:55.976114Z",
     "start_time": "2021-01-25T15:29:22.969825Z"
    }
   },
   "outputs": [
    {
     "name": "stdout",
     "output_type": "stream",
     "text": [
      "Evaluating classifier LogisticRegression\n",
      "Evaluating classifier KNeighbors\n",
      "Evaluating classifier SVC\n",
      "Evaluating classifier DecisionTree\n",
      "Evaluating classifier RandomForest\n",
      "Evaluating classifier XGBoost\n"
     ]
    }
   ],
   "source": [
    "val_model_scores = {}\n",
    "\n",
    "for key, classifier in classifiers.items():\n",
    "    print(f'Evaluating classifier {key}')\n",
    "    scores = cross_val_score(classifier, X_train_balanced, y_train_balanced, scoring='accuracy', cv=cv, n_jobs=-1)\n",
    "    val_model_scores[str(key)] = np.mean(scores)"
   ]
  },
  {
   "cell_type": "code",
   "execution_count": 119,
   "metadata": {
    "ExecuteTime": {
     "end_time": "2021-01-25T15:44:01.553613Z",
     "start_time": "2021-01-25T15:44:01.536013Z"
    }
   },
   "outputs": [
    {
     "data": {
      "text/plain": [
       "{'RandomForest': 0.9342060330108138,\n",
       " 'XGBoost': 0.9226522481502561,\n",
       " 'DecisionTree': 0.9107000569151964,\n",
       " 'KNeighbors': 0.8942800227660784,\n",
       " 'SVC': 0.561326124075128,\n",
       " 'LogisticRegression': 0.4822140011383039}"
      ]
     },
     "execution_count": 119,
     "metadata": {},
     "output_type": "execute_result"
    }
   ],
   "source": [
    "# get sorted classifier scores\n",
    "{k: v for k, v in sorted(val_model_scores.items(), key=lambda item: item[1], reverse=True)}"
   ]
  },
  {
   "cell_type": "markdown",
   "metadata": {},
   "source": [
    "Best CV performance (accuracy) on validation set at default params with Random Forest Classifier."
   ]
  },
  {
   "cell_type": "markdown",
   "metadata": {},
   "source": [
    "# Model tuning"
   ]
  },
  {
   "cell_type": "code",
   "execution_count": 120,
   "metadata": {
    "ExecuteTime": {
     "end_time": "2021-01-25T15:44:08.027280Z",
     "start_time": "2021-01-25T15:44:08.019920Z"
    },
    "scrolled": true
   },
   "outputs": [
    {
     "data": {
      "text/plain": [
       "{'bootstrap': True,\n",
       " 'ccp_alpha': 0.0,\n",
       " 'class_weight': None,\n",
       " 'criterion': 'gini',\n",
       " 'max_depth': None,\n",
       " 'max_features': 'auto',\n",
       " 'max_leaf_nodes': None,\n",
       " 'max_samples': None,\n",
       " 'min_impurity_decrease': 0.0,\n",
       " 'min_impurity_split': None,\n",
       " 'min_samples_leaf': 1,\n",
       " 'min_samples_split': 2,\n",
       " 'min_weight_fraction_leaf': 0.0,\n",
       " 'n_estimators': 100,\n",
       " 'n_jobs': None,\n",
       " 'oob_score': False,\n",
       " 'random_state': None,\n",
       " 'verbose': 0,\n",
       " 'warm_start': False}"
      ]
     },
     "execution_count": 120,
     "metadata": {},
     "output_type": "execute_result"
    }
   ],
   "source": [
    "classifier = RandomForestClassifier()\n",
    "\n",
    "classifier.get_params()"
   ]
  },
  {
   "cell_type": "code",
   "execution_count": 121,
   "metadata": {
    "ExecuteTime": {
     "end_time": "2021-01-25T15:44:47.615750Z",
     "start_time": "2021-01-25T15:44:47.600357Z"
    }
   },
   "outputs": [],
   "source": [
    "from sklearn.model_selection import RandomizedSearchCV\n",
    "\n",
    "grid_params = {'criterion' : ['gini', 'entropy'], \n",
    "               'max_features': ['auto', 'log2'],\n",
    "               'min_samples_split': [2,5,10],\n",
    "               'min_samples_leaf': [1,2,4],\n",
    "               'n_estimators' : [int(x) for x in np.linspace(100,1000, num=10)]\n",
    "              }"
   ]
  },
  {
   "cell_type": "markdown",
   "metadata": {},
   "source": [
    "Two key parameters for random search are `n_estimators` (# of trees) and `max_features` (max # features considered for splitting a node)\n",
    "\n",
    "Num combinations = 2 x 2 x 3 x 3 x 10 = 3,600"
   ]
  },
  {
   "cell_type": "code",
   "execution_count": 123,
   "metadata": {
    "ExecuteTime": {
     "end_time": "2021-01-25T15:45:11.670986Z",
     "start_time": "2021-01-25T15:45:11.663814Z"
    }
   },
   "outputs": [],
   "source": [
    "# reduce number of CV folds to increase speed a bit, especially with 100 iterations\n",
    "\n",
    "rf_random = RandomizedSearchCV(estimator=classifier, \n",
    "                               param_distributions=grid_params, \n",
    "                               n_iter=100, \n",
    "                               cv=3, \n",
    "                               scoring='accuracy',\n",
    "                               verbose=2, \n",
    "                               random_state=42, \n",
    "                               n_jobs=-1)"
   ]
  },
  {
   "cell_type": "code",
   "execution_count": 124,
   "metadata": {
    "ExecuteTime": {
     "end_time": "2021-01-25T16:21:15.205813Z",
     "start_time": "2021-01-25T15:45:12.944734Z"
    }
   },
   "outputs": [
    {
     "name": "stdout",
     "output_type": "stream",
     "text": [
      "Fitting 3 folds for each of 100 candidates, totalling 300 fits\n"
     ]
    },
    {
     "data": {
      "text/plain": [
       "RandomizedSearchCV(cv=3, estimator=RandomForestClassifier(), n_iter=100,\n",
       "                   n_jobs=-1,\n",
       "                   param_distributions={'criterion': ['gini', 'entropy'],\n",
       "                                        'max_features': ['auto', 'log2'],\n",
       "                                        'min_samples_leaf': [1, 2, 4],\n",
       "                                        'min_samples_split': [2, 5, 10],\n",
       "                                        'n_estimators': [100, 200, 300, 400,\n",
       "                                                         500, 600, 700, 800,\n",
       "                                                         900, 1000]},\n",
       "                   random_state=42, scoring='accuracy', verbose=2)"
      ]
     },
     "execution_count": 124,
     "metadata": {},
     "output_type": "execute_result"
    }
   ],
   "source": [
    "rf_random.fit(X_train_balanced, y_train_balanced)"
   ]
  },
  {
   "cell_type": "code",
   "execution_count": 125,
   "metadata": {
    "ExecuteTime": {
     "end_time": "2021-01-25T16:24:08.700042Z",
     "start_time": "2021-01-25T16:24:08.691341Z"
    }
   },
   "outputs": [
    {
     "data": {
      "text/plain": [
       "{'n_estimators': 800,\n",
       " 'min_samples_split': 2,\n",
       " 'min_samples_leaf': 1,\n",
       " 'max_features': 'auto',\n",
       " 'criterion': 'gini'}"
      ]
     },
     "execution_count": 125,
     "metadata": {},
     "output_type": "execute_result"
    }
   ],
   "source": [
    "rf_random.best_params_"
   ]
  },
  {
   "cell_type": "code",
   "execution_count": 126,
   "metadata": {
    "ExecuteTime": {
     "end_time": "2021-01-25T16:24:17.216184Z",
     "start_time": "2021-01-25T16:24:17.205654Z"
    }
   },
   "outputs": [
    {
     "data": {
      "text/plain": [
       "RandomForestClassifier(n_estimators=800)"
      ]
     },
     "execution_count": 126,
     "metadata": {},
     "output_type": "execute_result"
    }
   ],
   "source": [
    "best_rf = rf_random.best_estimator_\n",
    "best_rf"
   ]
  },
  {
   "cell_type": "code",
   "execution_count": 127,
   "metadata": {
    "ExecuteTime": {
     "end_time": "2021-01-25T16:24:30.287146Z",
     "start_time": "2021-01-25T16:24:30.276396Z"
    }
   },
   "outputs": [
    {
     "data": {
      "text/plain": [
       "0.9305927002079496"
      ]
     },
     "execution_count": 127,
     "metadata": {},
     "output_type": "execute_result"
    }
   ],
   "source": [
    "best_rf_score = rf_random.best_score_\n",
    "best_rf_score"
   ]
  },
  {
   "cell_type": "markdown",
   "metadata": {},
   "source": [
    "No increase in performance, try probability distribution-based search next."
   ]
  },
  {
   "cell_type": "code",
   "execution_count": null,
   "metadata": {},
   "outputs": [],
   "source": []
  },
  {
   "cell_type": "markdown",
   "metadata": {},
   "source": [
    "# Predict on test set"
   ]
  },
  {
   "cell_type": "code",
   "execution_count": 128,
   "metadata": {
    "ExecuteTime": {
     "end_time": "2021-01-25T16:25:43.156893Z",
     "start_time": "2021-01-25T16:25:41.735218Z"
    }
   },
   "outputs": [],
   "source": [
    "prediction = best_rf.predict(X_test_scaled)"
   ]
  },
  {
   "cell_type": "code",
   "execution_count": 129,
   "metadata": {
    "ExecuteTime": {
     "end_time": "2021-01-25T16:25:44.147702Z",
     "start_time": "2021-01-25T16:25:44.077207Z"
    }
   },
   "outputs": [
    {
     "name": "stdout",
     "output_type": "stream",
     "text": [
      "              precision    recall  f1-score   support\n",
      "\n",
      "           0       0.46      0.50      0.48       367\n",
      "           1       0.85      0.83      0.84      2155\n",
      "           2       0.40      0.44      0.42       291\n",
      "           3       0.24      0.19      0.21        21\n",
      "           4       0.00      0.00      0.00         2\n",
      "           5       1.00      0.25      0.40         4\n",
      "           6       0.43      0.20      0.27        15\n",
      "\n",
      "    accuracy                           0.74      2855\n",
      "   macro avg       0.48      0.35      0.37      2855\n",
      "weighted avg       0.75      0.74      0.75      2855\n",
      "\n"
     ]
    }
   ],
   "source": [
    "from sklearn.metrics import classification_report\n",
    "\n",
    "print(classification_report(y_test, prediction))"
   ]
  },
  {
   "cell_type": "markdown",
   "metadata": {},
   "source": [
    "Fewer cases of 4, 5, 6"
   ]
  },
  {
   "cell_type": "markdown",
   "metadata": {},
   "source": [
    "Conclusions : \n",
    "* Test accuracy lower than training and validation sets, consider some methods to reduce overfitting.\n",
    "* Additionally, if do RF or DT, don't need to scale features -> so use unscaled (but balanced) training data.\n"
   ]
  },
  {
   "cell_type": "markdown",
   "metadata": {},
   "source": [
    "## try test and training unscaled"
   ]
  },
  {
   "cell_type": "code",
   "execution_count": null,
   "metadata": {},
   "outputs": [],
   "source": [
    "best_rf.fit(X_train_balanced_unscaled, y_train_balanced_unscaled)"
   ]
  },
  {
   "cell_type": "code",
   "execution_count": null,
   "metadata": {},
   "outputs": [],
   "source": [
    "prediction = best_rf.predict(X_test)"
   ]
  },
  {
   "cell_type": "code",
   "execution_count": null,
   "metadata": {},
   "outputs": [],
   "source": [
    "from sklearn.metrics import classification_report\n",
    "\n",
    "print(classification_report(y_test, prediction))"
   ]
  },
  {
   "cell_type": "markdown",
   "metadata": {},
   "source": [
    "# opt: Explore ensemble methods"
   ]
  },
  {
   "cell_type": "markdown",
   "metadata": {},
   "source": [
    "# Explainer Dashboard for test data"
   ]
  },
  {
   "cell_type": "code",
   "execution_count": 58,
   "metadata": {
    "ExecuteTime": {
     "end_time": "2021-01-25T13:25:21.252295Z",
     "start_time": "2021-01-25T13:24:31.909388Z"
    }
   },
   "outputs": [],
   "source": [
    "from explainerdashboard import ClassifierExplainer, ExplainerDashboard"
   ]
  },
  {
   "cell_type": "code",
   "execution_count": 130,
   "metadata": {
    "ExecuteTime": {
     "end_time": "2021-01-25T16:29:09.688842Z",
     "start_time": "2021-01-25T16:28:40.929893Z"
    }
   },
   "outputs": [
    {
     "data": {
      "text/plain": [
       "RandomForestClassifier(n_estimators=800)"
      ]
     },
     "execution_count": 130,
     "metadata": {},
     "output_type": "execute_result"
    }
   ],
   "source": [
    "best_rf.fit(X_train_balanced, y_train_balanced)"
   ]
  },
  {
   "cell_type": "code",
   "execution_count": 131,
   "metadata": {
    "ExecuteTime": {
     "end_time": "2021-01-25T16:29:15.604478Z",
     "start_time": "2021-01-25T16:29:15.580874Z"
    }
   },
   "outputs": [],
   "source": [
    "feature_descriptions = {\n",
    "    \"CODE_GENDER\": \"Gender of client\",\n",
    "    \"FLAG_OWN_CAR\": \"Has a car\",\n",
    "    \"FLAG_OWN_REALTY\": \"Has a property\",\n",
    "    \"CNT_CHILDREN\": \"Number of children\",\n",
    "    \"AMT_INCOME_TOTAL\": \"Annual income\", \n",
    "    \"NAME_INCOME_TYPE\": \"Income category\",\n",
    "    \"NAME_EDUCATION_TYPE\": \"Education type\",\n",
    "    \"NAME_FAMILY_STATUS\": \"Marital status\",\n",
    "    \"NAME_HOUSING_TYPE\" : \"Housing type\",\n",
    "    \"DAYS_BIRTH\": 'Days since birth',\n",
    "    \"DAYS_EMPLOYED\": 'Days since employment',\n",
    "    \"FLAG_MOBIL\": 'Has a mobile phone',\n",
    "    \"FLAG_WORK_PHONE\": 'Has a work phone',\n",
    "    \"FLAG_EMAIL\": 'Has an email',\n",
    "    \"CNT_FAM_MEMBERS\": 'Family size'\n",
    "}"
   ]
  },
  {
   "cell_type": "code",
   "execution_count": 132,
   "metadata": {
    "ExecuteTime": {
     "end_time": "2021-01-25T16:29:20.597075Z",
     "start_time": "2021-01-25T16:29:19.030174Z"
    }
   },
   "outputs": [
    {
     "name": "stdout",
     "output_type": "stream",
     "text": [
      "Note: shap=='guess' so guessing for RandomForestClassifier shap='tree'...\n",
      "Detected RandomForestClassifier model: Changing class type to RandomForestClassifierExplainer...\n",
      "Note: model_output=='probability', so assuming that raw shap output of RandomForestClassifier is in probability space...\n",
      "Generating self.shap_explainer = shap.TreeExplainer(model)\n"
     ]
    }
   ],
   "source": [
    "# cats contains one-hot-encoded vectors\n",
    "\n",
    "explainer = ClassifierExplainer(best_rf, X_dftest_scaled, y_test, \n",
    "  cats=['NAME_HOUSING_TYPE','NAME_INCOME_TYPE', 'NAME_EDUCATION_TYPE', 'NAME_FAMILY_STATUS'],\n",
    "  descriptions=feature_descriptions, \n",
    "  labels=['No loan/paid off', '1-29 days past due', '30-59 days past due', '60-89 days past due', \n",
    "          '90-119 days past due', '120-149 days past due', 'overdue more than 150 days'], \n",
    "  target = \"Credit\")"
   ]
  },
  {
   "cell_type": "code",
   "execution_count": null,
   "metadata": {
    "ExecuteTime": {
     "start_time": "2021-01-25T16:29:23.803Z"
    }
   },
   "outputs": [
    {
     "name": "stdout",
     "output_type": "stream",
     "text": [
      "Building ExplainerDashboard..\n",
      "Detected notebook environment, consider setting mode='external', mode='inline' or mode='jupyterlab' to keep the notebook interactive while the dashboard is running...\n",
      "Warning: calculating shap interaction values can be slow! Pass shap_interaction=False to remove interactions tab.\n",
      "Generating layout...\n",
      "Calculating shap values...\n",
      "Calculating dependencies...\n",
      "Calculating permutation importances (if slow, try setting n_jobs parameter)...\n",
      "Calculating categorical permutation importances (if slow, try setting n_jobs parameter)...\n",
      "Calculating pred_percentiles...\n",
      "Calculating prediction probabilities...\n",
      "Calculating predictions...\n",
      "Calculating shap interaction values...\n",
      "Reminder: TreeShap computational complexity is O(TLD^2), where T is the number of trees, L is the maximum number of leaves in any tree and D the maximal depth of any tree. So reducing these will speed up the calculation.\n"
     ]
    }
   ],
   "source": [
    "db = ExplainerDashboard(explainer, title=\"Credit Explainer\", mode='external').run(port=8050)"
   ]
  },
  {
   "cell_type": "markdown",
   "metadata": {},
   "source": [
    "Possible arguments to ExplainerDashboard to hide tabs:\n",
    "* importances=True/False,\n",
    "* model_summary=True/False,\n",
    "* contributions=True/False,\n",
    "* whatif=True/False,\n",
    "* shap_dependence=True/False,\n",
    "* shap_interaction=True/False,\n",
    "* decision_trees=True/False\n",
    "\n",
    "(removing some decreases time complexity of computing/creating dashboard, esp SHAP values)\n",
    "\n",
    "see [this](https://medium.com/analytics-vidhya/explainer-dashboard-build-interactive-dashboards-for-machine-learning-models-fda63e0eab9)\n",
    "\n",
    "or hide individual components of tab:"
   ]
  },
  {
   "cell_type": "raw",
   "metadata": {},
   "source": [
    "ExplainerDashboard(explainer, \n",
    "        # importances tab:\n",
    "        hide_importances=True,\n",
    "        \n",
    "        # classification stats tab:\n",
    "        hide_globalcutoff=True, \n",
    "        hide_modelsummary=True, \n",
    "        hide_confusionmatrix=True, \n",
    "        hide_precision=True, \n",
    "        hide_classification=True, \n",
    "        hide_rocauc=True, \n",
    "        hide_prauc=True, \n",
    "        hide_liftcurve=True, \n",
    "        hide_cumprecision=True,\n",
    "        \n",
    "        # regression stats tab:\n",
    "        hide_modelsummary=True, \n",
    "        hide_predsvsactual=True, \n",
    "        hide_residuals=True, \n",
    "        hide_regvscol=True,\n",
    "        \n",
    "        # individual predictions tab:\n",
    "        hide_predindexselector=True, \n",
    "        hide_predictionsummary=True,\n",
    "        hide_contributiongraph=True, \n",
    "        hide_pdp=True, \n",
    "        hide_contributiontable=True,\n",
    "        \n",
    "        # whatif tab:\n",
    "        hide_whatifindexselector=True, \n",
    "        hide_inputeditor=True, \n",
    "        hide_whatifcontribution=True, \n",
    "        hide_whatifpdp=True,\n",
    "        \n",
    "        # shap dependence tab:\n",
    "        hide_shapsummary=True, \n",
    "        hide_shapdependence=True,\n",
    "        \n",
    "        # shap interactions tab:\n",
    "        hide_interactionsummary=True, \n",
    "        hide_interactiondependence=True,\n",
    "        \n",
    "        # decisiontrees tab:\n",
    "        hide_treeindexselector=True, hide_treesgraph=True, \n",
    "        hide_treepathtable=True, hide_treepathgraph=True,\n",
    "        ).run()"
   ]
  },
  {
   "cell_type": "markdown",
   "metadata": {},
   "source": [
    "or hide toggles and dropdowns within each component (but if appears on more than one component, then toggles it on/off for all components)"
   ]
  },
  {
   "cell_type": "raw",
   "metadata": {},
   "source": [
    "ExplainerDashboard(explainer, \n",
    "     no_permutations=True, # do not show or calculate permutation importances\n",
    "     hide_cats=True, # hide the group cats toggles\n",
    "     hide_depth=True, # hide the depth (no of features) dropdown\n",
    "     hide_sort=True, # hide sort type dropdown in contributions graph/table\n",
    "     hide_orientation=True, # hide orientation dropdown in contributions graph/table\n",
    "     hide_type=True, # hide shap/permutation toggle on ImportancesComponent \n",
    "     hide_dropna=True, # hide dropna toggle on pdp component\n",
    "     hide_sample=True, # hide sample size input on pdp component\n",
    "     hide_gridlines=True, # hide gridlines on pdp component\n",
    "     hide_gridpoints=True, # hide gridpoints input on pdp component\n",
    "     hide_cutoff=True, # hide cutoff selector on classification components\n",
    "     hide_percentage=True, # hide percentage toggle on classificaton components\n",
    "     hide_log_x=True, # hide x-axis logs toggle on regression plots\n",
    "     hide_log_y=True, # hide y-axis logs toggle on regression plots\n",
    "     hide_ratio=True, # hide the residuals type dropdown\n",
    "     hide_points=True, # hide the show violin scatter markers toggle\n",
    "     hide_winsor=True, # hide the winsorize input\n",
    ")"
   ]
  },
  {
   "cell_type": "markdown",
   "metadata": {},
   "source": [
    "and set some defaults"
   ]
  },
  {
   "cell_type": "raw",
   "metadata": {},
   "source": [
    "ExplainerDashboard(explainer, \n",
    "    higher_is_better=False, # flip green and red in contributions graph\n",
    "    col='Fare', # initial feature in shap graphs\n",
    "    color_col='Age', # color feature in shap dependence graph\n",
    "    interact_col='Age', # interaction feature in shap interaction\n",
    "    cats=False, # do not group categorical onehot features\n",
    "    depth=5, # only show top 5 features\n",
    "    sort = 'low-to-high', # sort features from lowest shap to highest in contributions graph/table\n",
    "    orientation='horizontal', # horizontal bars in contributions graph\n",
    "    index='Rugg, Miss. Emily', # initial index to display\n",
    "    pdp_col='Fare', # initial pdp feature\n",
    "    cutoff=0.8, # cutoff for classification plots\n",
    "    round=2 # rounding to apply to floats\n",
    "    )"
   ]
  },
  {
   "cell_type": "code",
   "execution_count": null,
   "metadata": {},
   "outputs": [],
   "source": [
    "# store both the explainer and the dashboard configuration:\n",
    "\n",
    "explainer.dump(\"explainer_v1.joblib\")\n",
    "db.to_yaml(\"dashboard_v1.yaml\")"
   ]
  },
  {
   "cell_type": "code",
   "execution_count": null,
   "metadata": {},
   "outputs": [],
   "source": [
    "#from explainerdashboard import ClassifierExplainer, ExplainerDashboard\n",
    "\n",
    "#explainer = ClassifierExplainer.from_file(\"explainer.joblib\")\n",
    "#db = ExplainerDashboard.from_config(explainer, \"dashboard.yaml\", title=\"Credit Explainer Dashboard\")\n",
    "#app = db.flask_server()\n",
    "\n",
    "# and run with $ gunicorn dashboard:app"
   ]
  },
  {
   "cell_type": "code",
   "execution_count": null,
   "metadata": {},
   "outputs": [],
   "source": []
  },
  {
   "cell_type": "code",
   "execution_count": null,
   "metadata": {},
   "outputs": [],
   "source": []
  }
 ],
 "metadata": {
  "kernelspec": {
   "display_name": "Python 3",
   "language": "python",
   "name": "python3"
  },
  "language_info": {
   "codemirror_mode": {
    "name": "ipython",
    "version": 3
   },
   "file_extension": ".py",
   "mimetype": "text/x-python",
   "name": "python",
   "nbconvert_exporter": "python",
   "pygments_lexer": "ipython3",
   "version": "3.7.7"
  },
  "toc": {
   "base_numbering": 1,
   "nav_menu": {},
   "number_sections": true,
   "sideBar": true,
   "skip_h1_title": false,
   "title_cell": "Table of Contents",
   "title_sidebar": "Contents",
   "toc_cell": false,
   "toc_position": {},
   "toc_section_display": true,
   "toc_window_display": false
  },
  "varInspector": {
   "cols": {
    "lenName": 16,
    "lenType": 16,
    "lenVar": 40
   },
   "kernels_config": {
    "python": {
     "delete_cmd_postfix": "",
     "delete_cmd_prefix": "del ",
     "library": "var_list.py",
     "varRefreshCmd": "print(var_dic_list())"
    },
    "r": {
     "delete_cmd_postfix": ") ",
     "delete_cmd_prefix": "rm(",
     "library": "var_list.r",
     "varRefreshCmd": "cat(var_dic_list()) "
    }
   },
   "types_to_exclude": [
    "module",
    "function",
    "builtin_function_or_method",
    "instance",
    "_Feature"
   ],
   "window_display": false
  }
 },
 "nbformat": 4,
 "nbformat_minor": 4
}
